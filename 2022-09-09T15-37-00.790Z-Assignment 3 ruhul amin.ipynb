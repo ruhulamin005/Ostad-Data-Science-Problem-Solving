{
 "cells": [
  {
   "cell_type": "markdown",
   "metadata": {},
   "source": [
    "# Define a function that accepts a number and returns whether the number is even or odd. You should have parameters for this function."
   ]
  },
  {
   "cell_type": "code",
   "execution_count": 7,
   "metadata": {},
   "outputs": [
    {
     "name": "stdout",
     "output_type": "stream",
     "text": [
      "Enter the number:\n",
      "3\n",
      "Odd\n"
     ]
    }
   ],
   "source": [
    "# Write your code here\n",
    "def check_even_odd(num):\n",
    "    if ( num % 2 == 0):\n",
    "        return \"Even\";\n",
    "    else:\n",
    "        return \"Odd\";\n",
    "        \n",
    "        \n",
    "print(\"Enter the number:\")\n",
    "number = input()\n",
    "number = int(number)\n",
    "\n",
    "print(check_even_odd(number))\n",
    "\n",
    "\n"
   ]
  },
  {
   "cell_type": "code",
   "execution_count": null,
   "metadata": {},
   "outputs": [],
   "source": []
  },
  {
   "cell_type": "markdown",
   "metadata": {},
   "source": [
    "# You need to calculate 2 numbers. What will be the calculation type will be based on user.\n",
    "\n",
    "User can use addition, subtraction, multiplication and division on your program. Define a function that will do basic mathmatical operation with 2 numbers."
   ]
  },
  {
   "cell_type": "code",
   "execution_count": 17,
   "metadata": {},
   "outputs": [
    {
     "name": "stdout",
     "output_type": "stream",
     "text": [
      "Enter Input 1-4 to calculate:\n",
      "1. Add\n",
      "1. Subtract\n",
      "3. Multiply\n",
      "4. Division\n",
      "5\n",
      "Enter Number 1\n",
      "3\n",
      "Enter Number 2\n",
      "4\n",
      "Result after calculation: Invalid Input for Calculation\n"
     ]
    }
   ],
   "source": [
    "# Write your code here\n",
    "def calculator(number1,number2,calculation): #function to decide calculation\n",
    "    if(calculation == 1):\n",
    "        return number1+number2\n",
    "    elif (calculation == 2):\n",
    "        return number1 - number2\n",
    "    elif (calculation == 3):\n",
    "        return number1*number2\n",
    "    elif (calculation == 4):\n",
    "        return number1/number2\n",
    "    else:\n",
    "        return \"Invalid Input for Calculation the range is 1-4\"\n",
    "\n",
    "\n",
    "#####MAIN_ACTION_AREA######\n",
    "print(\"Enter Input 1-4 to calculate:\")\n",
    "print(\"1. Add\")\n",
    "print(\"1. Subtract\")\n",
    "print(\"3. Multiply\")\n",
    "print(\"4. Division\")\n",
    "\n",
    "calculation = input()\n",
    "calculation = int(calculation)\n",
    "\n",
    "print(\"Enter Number 1\")\n",
    "number1 = input()\n",
    "number1 = int(number1)\n",
    "\n",
    "print(\"Enter Number 2\")\n",
    "number2 = input()\n",
    "number2 = int(number2)\n",
    "\n",
    "\n",
    "result = calculator(number1,number2,calculation) #getting from function\n",
    "print(\"Result after calculation:\",result)\n",
    "\n",
    "\n",
    "\n"
   ]
  },
  {
   "cell_type": "code",
   "execution_count": null,
   "metadata": {},
   "outputs": [],
   "source": []
  },
  {
   "cell_type": "markdown",
   "metadata": {},
   "source": [
    "# Define a function that will print if you are young, old or mid-age.\n",
    "\n",
    "less than 18 years is young\n",
    "18-30 years is mid-age\n",
    "31-above is old."
   ]
  },
  {
   "cell_type": "code",
   "execution_count": 30,
   "metadata": {},
   "outputs": [
    {
     "name": "stdout",
     "output_type": "stream",
     "text": [
      "Enter Age:\n",
      "17\n",
      "YOUNG\n"
     ]
    }
   ],
   "source": [
    "# Write your code here\n",
    "def ageCalculator(age):\n",
    "    if age<18:\n",
    "        return \"YOUNG\"\n",
    "    elif age>=18 and age <=30:\n",
    "        return \"MID-AGE\"\n",
    "    elif age>30:\n",
    "        return \"OLD\"\n",
    "    \n",
    "\n",
    "\n",
    "####MAIN AREA####\n",
    "print(\"Enter Age:\")\n",
    "age = input()\n",
    "age = int(age)\n",
    "\n",
    "print(ageCalculator(age))\n",
    "\n",
    "\n"
   ]
  },
  {
   "cell_type": "markdown",
   "metadata": {},
   "source": [
    "# Create a function if a person is eligible to vote.\n",
    "\n",
    "consider 18 years is legal voting age for all.\n",
    "But, if you are freedom fighter then it is 16. In case of female freedom figher it is 17 but if the female freedom fighter is married than it is 20.\n",
    "In case of criminal offence he/she is not eligible to vote for all."
   ]
  },
  {
   "cell_type": "code",
   "execution_count": null,
   "metadata": {},
   "outputs": [],
   "source": [
    "# Write your code here\n"
   ]
  },
  {
   "cell_type": "markdown",
   "metadata": {},
   "source": [
    "# We have a collection of numbers\n",
    "\n",
    "4,6,7,8,9,12,14,16,17,18,20,20\n",
    "\n",
    "sum all the numbers.\n",
    "\n",
    "which data type would you use list, tuple or set?"
   ]
  },
  {
   "cell_type": "code",
   "execution_count": 2,
   "metadata": {},
   "outputs": [
    {
     "name": "stdout",
     "output_type": "stream",
     "text": [
      "The sum is: 151\n"
     ]
    }
   ],
   "source": [
    "#I will use LIST\n",
    "\n",
    "numbers = [4,6,7,8,9,12,14,16,17,18,20,20]\n",
    "sum = 0\n",
    "for number in numbers:\n",
    "    sum = sum+number\n",
    "\n",
    "    \n",
    "print(\"The sum is:\",sum)\n",
    "\n"
   ]
  },
  {
   "cell_type": "code",
   "execution_count": null,
   "metadata": {},
   "outputs": [],
   "source": []
  },
  {
   "cell_type": "code",
   "execution_count": null,
   "metadata": {},
   "outputs": [],
   "source": []
  }
 ],
 "metadata": {
  "kernelspec": {
   "display_name": "Python 3",
   "language": "python",
   "name": "python3"
  },
  "language_info": {
   "codemirror_mode": {
    "name": "ipython",
    "version": 3
   },
   "file_extension": ".py",
   "mimetype": "text/x-python",
   "name": "python",
   "nbconvert_exporter": "python",
   "pygments_lexer": "ipython3",
   "version": "3.7.3"
  },
  "vscode": {
   "interpreter": {
    "hash": "2043299c89c8cd0b4d1a6f5cf4529bd58e6a4e0fe3181a25e0d328c821cdc5c5"
   }
  }
 },
 "nbformat": 4,
 "nbformat_minor": 5
}
