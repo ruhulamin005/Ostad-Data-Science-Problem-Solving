{
 "cells": [
  {
   "cell_type": "markdown",
   "metadata": {},
   "source": [
    "# Create a loop that multiply and print each number in the list by 2\n",
    "\n",
    "numbers= [1,2,3,4,5,6,7,8,9,10]"
   ]
  },
  {
   "cell_type": "code",
   "execution_count": 74,
   "metadata": {},
   "outputs": [
    {
     "name": "stdout",
     "output_type": "stream",
     "text": [
      "2\n",
      "4\n",
      "6\n",
      "8\n",
      "10\n",
      "12\n",
      "14\n",
      "16\n",
      "18\n",
      "20\n"
     ]
    }
   ],
   "source": [
    "# Code\n",
    "numbers= [1,2,3,4,5,6,7,8,9,10]\n",
    "\n",
    "for i in numbers:\n",
    "    print(i*2)"
   ]
  },
  {
   "cell_type": "markdown",
   "metadata": {},
   "source": [
    "# Create this pattern with for loop\n",
    "\n",
    "numbers= [1,2,3,4,5,6,7,8,9]\n",
    "\n",
    "1                                                                                                             \n",
    "22                                                                                                            \n",
    "333                                                                                                           \n",
    "4444                                                                                                          \n",
    "55555                                                                                                         \n",
    "666666                                                                                                        \n",
    "7777777                                                                                                       \n",
    "88888888                                                                                                      \n",
    "999999999 "
   ]
  },
  {
   "cell_type": "code",
   "execution_count": 48,
   "metadata": {
    "scrolled": true
   },
   "outputs": [
    {
     "name": "stdout",
     "output_type": "stream",
     "text": [
      "[1]\n",
      "[2, 2]\n",
      "[3, 3, 3]\n",
      "[4, 4, 4, 4]\n",
      "[5, 5, 5, 5, 5]\n",
      "[6, 6, 6, 6, 6, 6]\n",
      "[7, 7, 7, 7, 7, 7, 7]\n",
      "[8, 8, 8, 8, 8, 8, 8, 8]\n",
      "[9, 9, 9, 9, 9, 9, 9, 9, 9]\n"
     ]
    }
   ],
   "source": [
    "# Code\n",
    "numbers= [1,2,3,4,5,6,7,8,9]\n",
    "position=0\n",
    "\n",
    "for i in numbers:\n",
    "    makealist= []\n",
    "    count = numbers[position]\n",
    "    for j in range(count):\n",
    "        makealist.append(i)\n",
    "    position = position+1\n",
    "    print(makealist)\n",
    "    \n",
    "    \n",
    "    "
   ]
  },
  {
   "cell_type": "markdown",
   "metadata": {},
   "source": [
    "We can use range() function to create same list of first two question\n",
    "\n",
    "Numbers= [1,2,3,4,5,6,7,8,9,10]\n",
    "\n",
    "for i in Numbers:\n",
    "\n",
    "is same as:\n",
    "\n",
    "for i in range(1,11,1):\n",
    "\n",
    "\n",
    "range(starting number, finishing number, increment)\n",
    "\n",
    "range(1,11,1) means starting with 1, finishing at 10 and increment by 1\n",
    "\n",
    "# print all even number (0-100)\n"
   ]
  },
  {
   "cell_type": "code",
   "execution_count": 18,
   "metadata": {},
   "outputs": [
    {
     "name": "stdout",
     "output_type": "stream",
     "text": [
      "2\n",
      "4\n",
      "6\n",
      "8\n",
      "10\n",
      "12\n",
      "14\n",
      "16\n",
      "18\n",
      "20\n",
      "22\n",
      "24\n",
      "26\n",
      "28\n",
      "30\n",
      "32\n",
      "34\n",
      "36\n",
      "38\n",
      "40\n",
      "42\n",
      "44\n",
      "46\n",
      "48\n",
      "50\n",
      "52\n",
      "54\n",
      "56\n",
      "58\n",
      "60\n",
      "62\n",
      "64\n",
      "66\n",
      "68\n",
      "70\n",
      "72\n",
      "74\n",
      "76\n",
      "78\n",
      "80\n",
      "82\n",
      "84\n",
      "86\n",
      "88\n",
      "90\n",
      "92\n",
      "94\n",
      "96\n",
      "98\n",
      "100\n"
     ]
    }
   ],
   "source": [
    "# code\n",
    "number =1\n",
    "while (number <=100):\n",
    "    if(number%2)==0:\n",
    "        print(number)\n",
    "    number = number+1\n",
    "        \n"
   ]
  },
  {
   "cell_type": "markdown",
   "metadata": {},
   "source": [
    "# Create a loop that prints your name 5 times"
   ]
  },
  {
   "cell_type": "code",
   "execution_count": 22,
   "metadata": {},
   "outputs": [
    {
     "name": "stdout",
     "output_type": "stream",
     "text": [
      "Md Ruhul Amin\n",
      "Md Ruhul Amin\n",
      "Md Ruhul Amin\n",
      "Md Ruhul Amin\n",
      "Md Ruhul Amin\n"
     ]
    }
   ],
   "source": [
    "# code\n",
    "count=4\n",
    "while count>=0:\n",
    "    print(\"Md Ruhul Amin\")\n",
    "    count = count-1  #decrement will be five times\n"
   ]
  },
  {
   "cell_type": "markdown",
   "metadata": {},
   "source": [
    "# Create a loop that prints horizontally\n",
    "\n",
    "10,20,30,40,50,60,70,80,90,100\n",
    "\n"
   ]
  },
  {
   "cell_type": "code",
   "execution_count": 69,
   "metadata": {},
   "outputs": [
    {
     "name": "stdout",
     "output_type": "stream",
     "text": [
      "[10, 20, 30, 40, 50, 60, 70, 80, 90, 100]\n"
     ]
    }
   ],
   "source": [
    "numbers =[]\n",
    "for i in range(10,101):\n",
    "    if i%10==0:\n",
    "        numbers.append(i)\n",
    "        \n",
    "print(numbers)"
   ]
  },
  {
   "cell_type": "code",
   "execution_count": null,
   "metadata": {},
   "outputs": [],
   "source": []
  },
  {
   "cell_type": "code",
   "execution_count": null,
   "metadata": {},
   "outputs": [],
   "source": []
  }
 ],
 "metadata": {
  "kernelspec": {
   "display_name": "Python 3",
   "language": "python",
   "name": "python3"
  },
  "language_info": {
   "codemirror_mode": {
    "name": "ipython",
    "version": 3
   },
   "file_extension": ".py",
   "mimetype": "text/x-python",
   "name": "python",
   "nbconvert_exporter": "python",
   "pygments_lexer": "ipython3",
   "version": "3.7.3"
  },
  "vscode": {
   "interpreter": {
    "hash": "2043299c89c8cd0b4d1a6f5cf4529bd58e6a4e0fe3181a25e0d328c821cdc5c5"
   }
  }
 },
 "nbformat": 4,
 "nbformat_minor": 5
}
