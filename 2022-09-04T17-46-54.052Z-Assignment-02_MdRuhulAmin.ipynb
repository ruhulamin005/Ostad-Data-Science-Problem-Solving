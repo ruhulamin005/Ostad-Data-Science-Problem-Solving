{
 "cells": [
  {
   "cell_type": "markdown",
   "metadata": {},
   "source": [
    "# Assignment 2\n",
    "# Md Ruhul Amin"
   ]
  },
  {
   "cell_type": "markdown",
   "metadata": {},
   "source": [
    "# Ques-01"
   ]
  },
  {
   "cell_type": "markdown",
   "metadata": {},
   "source": [
    "Write a program that converts the value in the following table"
   ]
  },
  {
   "cell_type": "raw",
   "metadata": {},
   "source": [
    "Marks\tGrade\n",
    "80-100\tA+\n",
    "70-79\tA\n",
    "60-69\tB\n",
    "40-59\tC\n",
    "0-39\tD\n",
    "Other   Invalid"
   ]
  },
  {
   "cell_type": "code",
   "execution_count": 81,
   "metadata": {},
   "outputs": [
    {
     "name": "stdout",
     "output_type": "stream",
     "text": [
      "A\n"
     ]
    }
   ],
   "source": [
    "Marks= 75\n",
    "\n",
    "# Write your programme below\n",
    "if Marks >= 80 and Marks <=100:\n",
    "    print (\"A+\")\n",
    "elif Marks >= 70 and Marks <=79:\n",
    "    print (\"A\")\n",
    "elif Marks >= 60 and Marks <=69:\n",
    "    print (\"B\")\n",
    "elif Marks >= 40 and Marks <=59:\n",
    "    print (\"C\")\n",
    "elif Marks >= 0 and Marks <=39:\n",
    "    print (\"D\")\n",
    "else:\n",
    "    print(\"Invalid\")"
   ]
  },
  {
   "cell_type": "code",
   "execution_count": 82,
   "metadata": {},
   "outputs": [
    {
     "name": "stdout",
     "output_type": "stream",
     "text": [
      "Invalid\n"
     ]
    }
   ],
   "source": [
    "Marks= -10\n",
    "\n",
    "# Write your programme below\n",
    "if Marks >= 80 and Marks <=100:\n",
    "    print (\"A+\")\n",
    "elif Marks >= 70 and Marks <=79:\n",
    "    print (\"A\")\n",
    "elif Marks >= 60 and Marks <=69:\n",
    "    print (\"B\")\n",
    "elif Marks >= 40 and Marks <=59:\n",
    "    print (\"C\")\n",
    "elif Marks >= 0 and Marks <=39:\n",
    "    print (\"D\")\n",
    "else:\n",
    "    print(\"Invalid\")\n"
   ]
  },
  {
   "cell_type": "markdown",
   "metadata": {},
   "source": [
    "# Ques-02"
   ]
  },
  {
   "cell_type": "markdown",
   "metadata": {},
   "source": [
    "Write a program that finds the largest number and print largest number based on your condition"
   ]
  },
  {
   "cell_type": "code",
   "execution_count": 18,
   "metadata": {},
   "outputs": [
    {
     "name": "stdout",
     "output_type": "stream",
     "text": [
      "80  is the largest\n"
     ]
    }
   ],
   "source": [
    "num_01= 80\n",
    "num_02= 70\n",
    "\n",
    "# Write your programe below\n",
    "\n",
    "if num_01 > num_02:\n",
    "    print(num_01 ,\" is the largest\")\n",
    "elif num_02>num_01:\n",
    "    print(num_02, \" is the largest\")"
   ]
  },
  {
   "cell_type": "code",
   "execution_count": 32,
   "metadata": {},
   "outputs": [
    {
     "name": "stdout",
     "output_type": "stream",
     "text": [
      "number 3: 91  is the largest\n"
     ]
    }
   ],
   "source": [
    "number_01= 67\n",
    "number_02= 65\n",
    "number_03= 91\n",
    "\n",
    "# Write your programe below\n",
    "if number_01 >=number_02 and number_01>=number_03:\n",
    "    print(\"number 1:\",number_01,\" is the largest\")\n",
    "elif number_02>=number_01 and number_02>= number_03:\n",
    "    print(\"number 2:\",number_02,\" is the largest\")\n",
    "else:\n",
    "    print(\"number 3:\",number_03,\" is the largest\")\n",
    "\n"
   ]
  },
  {
   "cell_type": "markdown",
   "metadata": {},
   "source": [
    "# Ques-03"
   ]
  },
  {
   "cell_type": "raw",
   "metadata": {},
   "source": [
    "Write a program that prints if a number is positive or negative"
   ]
  },
  {
   "cell_type": "code",
   "execution_count": 34,
   "metadata": {},
   "outputs": [
    {
     "name": "stdout",
     "output_type": "stream",
     "text": [
      "Positive Number\n"
     ]
    }
   ],
   "source": [
    "positive_num= 67\n",
    "\n",
    "# Write your programe below\n",
    "if positive_num>0:\n",
    "    print(\"Positive Number\")\n",
    "elif positive_num<0:\n",
    "    print(\"Negative Number\")\n"
   ]
  },
  {
   "cell_type": "code",
   "execution_count": 36,
   "metadata": {},
   "outputs": [
    {
     "name": "stdout",
     "output_type": "stream",
     "text": [
      "Negative Number\n"
     ]
    }
   ],
   "source": [
    "negative_num= -8\n",
    "\n",
    "# Write your programe below\n",
    "if negative_num>0:\n",
    "    print(\"Positive Number\")\n",
    "elif negative_num<0:\n",
    "    print(\"Negative Number\")\n"
   ]
  },
  {
   "cell_type": "markdown",
   "metadata": {},
   "source": [
    "# Ques-04"
   ]
  },
  {
   "cell_type": "markdown",
   "metadata": {},
   "source": [
    "Write a programme that prints the wage"
   ]
  },
  {
   "cell_type": "raw",
   "metadata": {},
   "source": [
    "Age\t           Sex\tWage\n",
    ">=18 and <30\tM\t700\n",
    "                F\t750\n",
    ">=30 and <=40\tM\t800\n",
    "\t            F\t850"
   ]
  },
  {
   "cell_type": "code",
   "execution_count": 83,
   "metadata": {},
   "outputs": [
    {
     "name": "stdout",
     "output_type": "stream",
     "text": [
      "Wage: 750\n"
     ]
    }
   ],
   "source": [
    "age= 25\n",
    "sex= 'Female'\n",
    "\n",
    "# Write your programme below\n",
    "\n",
    "if age >=18 and age <30:\n",
    "    if sex == 'Female':\n",
    "        print(\"Wage: 750\")\n",
    "    elif (sex == 'Male'):\n",
    "        print(\"Wage: 700\")\n",
    "elif age>=30 and age <=40:\n",
    "    if(sex == 'Female'):\n",
    "        print(\"Wage: 850\")\n",
    "    elif (sex == 'Male'):\n",
    "        print(\"Wage: 800\")"
   ]
  },
  {
   "cell_type": "code",
   "execution_count": 70,
   "metadata": {},
   "outputs": [
    {
     "name": "stdout",
     "output_type": "stream",
     "text": [
      "Wage: 800\n"
     ]
    }
   ],
   "source": [
    "age= 40\n",
    "sex= 'Male'\n",
    "\n",
    "# Write your programme below\n",
    "if age >=18 and age <30:\n",
    "    if sex == 'Female':\n",
    "        print(\"Wage: 750\")\n",
    "    elif (sex == 'Male'):\n",
    "        print(\"Wage: 700\")\n",
    "elif age>=30 and age <=40:\n",
    "    if(sex == 'Female'):\n",
    "        print(\"Wage: 850\")\n",
    "    elif (sex == 'Male'):\n",
    "        print(\"Wage: 800\")"
   ]
  },
  {
   "cell_type": "markdown",
   "metadata": {},
   "source": [
    "# Bonus question\n",
    "# Research on internet\n",
    "# Don't worry if you can't solve the problem"
   ]
  },
  {
   "cell_type": "markdown",
   "metadata": {},
   "source": [
    "You need to calculate the total bill of a customer."
   ]
  },
  {
   "cell_type": "raw",
   "metadata": {},
   "source": [
    "First 500 units  <-  Free\n",
    "Second 1000 units  <- 50 taka per unit\n",
    "After 1500 units <- 100 taka per unit"
   ]
  },
  {
   "cell_type": "code",
   "execution_count": 79,
   "metadata": {},
   "outputs": [
    {
     "name": "stdout",
     "output_type": "stream",
     "text": [
      "Bill: 400000\n"
     ]
    }
   ],
   "source": [
    "units = 5000\n",
    "bill=0\n",
    "# Write your programme below\n",
    "\n",
    "if units>0:\n",
    "    if units<=500:\n",
    "        print(\"Bill Free\")\n",
    "    elif units>500 and units<=1500:\n",
    "        billUnits= units-500\n",
    "        bill = billUnits*50\n",
    "        print(\"Bill:\",bill)\n",
    "    elif units>1500:\n",
    "        secondBill= 50000   # bill between 500 and 1500 units will be 50000\n",
    "        billUnits = units-1500 #it will return the rest of billunit which will be counted 100 tk per unit\n",
    "        \n",
    "        bill = billUnits*100+50000 #Calculating the total bill\n",
    "        print(\"Bill:\",bill)\n",
    "        \n",
    "        \n",
    "    \n"
   ]
  },
  {
   "cell_type": "code",
   "execution_count": null,
   "metadata": {},
   "outputs": [],
   "source": []
  },
  {
   "cell_type": "code",
   "execution_count": null,
   "metadata": {},
   "outputs": [],
   "source": []
  }
 ],
 "metadata": {
  "kernelspec": {
   "display_name": "Python 3",
   "language": "python",
   "name": "python3"
  },
  "language_info": {
   "codemirror_mode": {
    "name": "ipython",
    "version": 3
   },
   "file_extension": ".py",
   "mimetype": "text/x-python",
   "name": "python",
   "nbconvert_exporter": "python",
   "pygments_lexer": "ipython3",
   "version": "3.7.3"
  },
  "vscode": {
   "interpreter": {
    "hash": "2043299c89c8cd0b4d1a6f5cf4529bd58e6a4e0fe3181a25e0d328c821cdc5c5"
   }
  }
 },
 "nbformat": 4,
 "nbformat_minor": 5
}
